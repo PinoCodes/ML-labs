{
 "cells": [
  {
   "cell_type": "markdown",
   "metadata": {
    "id": "NIyp4JA0HvJb"
   },
   "source": [
    "# Tuning decision trees"
   ]
  },
  {
   "cell_type": "markdown",
   "metadata": {
    "id": "_ohvVK9tqXJI"
   },
   "source": [
    "## Purposes\n",
    "\n",
    "Learn to reduce overfitting in a decision tree and improve its predictive ability on real-world data."
   ]
  },
  {
   "cell_type": "markdown",
   "metadata": {
    "id": "pTiwLOIHqXRw"
   },
   "source": [
    "## To do\n",
    "\n",
    "- Load the data and explore it.\n",
    "- Implement the construction of a decision tree using the Scikit-learn library.\n",
    "- Tune the hyperparameters of the tree.\n",
    "- Experiment with cost-complexity pruning of the tree."
   ]
  },
  {
   "cell_type": "markdown",
   "metadata": {
    "id": "NkvSJDW6qhe-"
   },
   "source": [
    "The dataset is called `sales.csv` – data on apartment sales."
   ]
  },
  {
   "cell_type": "markdown",
   "metadata": {
    "id": "NlcYMEEG1bqD"
   },
   "source": [
    "- SalePrice – target variable;\n",
    "- GrLivArea – above-ground living area;\n",
    "- Overall Quality – overall quality;\n",
    "- GarageArea – garage area;\n",
    "- SaleCondition – sale condition."
   ]
  },
  {
   "cell_type": "markdown",
   "metadata": {
    "id": "Fn4XZ1cgqm1N"
   },
   "source": [
    "The quality of the model on the training and test datasets is evaluated using the R² metric."
   ]
  },
  {
   "cell_type": "markdown",
   "metadata": {
    "id": "svOtYfEuPbGH"
   },
   "source": [
    "## Load Data"
   ]
  },
  {
   "cell_type": "code",
   "execution_count": 6,
   "metadata": {
    "id": "HUhq3m7ZPbGI"
   },
   "outputs": [],
   "source": [
    "import pandas as pd\n",
    "import matplotlib.pyplot as plt\n",
    "import seaborn as sns\n",
    "import numpy as np\n",
    "import warnings\n",
    "warnings.filterwarnings('ignore')\n",
    "%matplotlib inline"
   ]
  },
  {
   "cell_type": "code",
   "execution_count": 8,
   "metadata": {
    "id": "uA_mTzU3PbGI"
   },
   "outputs": [],
   "source": [
    "data = pd.read_csv('sales.csv')"
   ]
  },
  {
   "cell_type": "code",
   "execution_count": 10,
   "metadata": {
    "colab": {
     "base_uri": "https://localhost:8080/",
     "height": 206
    },
    "id": "qS3t2MHzPbGJ",
    "outputId": "cb893a77-1629-4ef5-a0ee-a187eeed1e00"
   },
   "outputs": [
    {
     "data": {
      "text/html": [
       "<div>\n",
       "<style scoped>\n",
       "    .dataframe tbody tr th:only-of-type {\n",
       "        vertical-align: middle;\n",
       "    }\n",
       "\n",
       "    .dataframe tbody tr th {\n",
       "        vertical-align: top;\n",
       "    }\n",
       "\n",
       "    .dataframe thead th {\n",
       "        text-align: right;\n",
       "    }\n",
       "</style>\n",
       "<table border=\"1\" class=\"dataframe\">\n",
       "  <thead>\n",
       "    <tr style=\"text-align: right;\">\n",
       "      <th></th>\n",
       "      <th>SalePrice</th>\n",
       "      <th>GrLivArea</th>\n",
       "      <th>GarageArea</th>\n",
       "      <th>OverallQual</th>\n",
       "      <th>Street</th>\n",
       "      <th>SaleCondition</th>\n",
       "    </tr>\n",
       "  </thead>\n",
       "  <tbody>\n",
       "    <tr>\n",
       "      <th>0</th>\n",
       "      <td>208500</td>\n",
       "      <td>1710</td>\n",
       "      <td>548</td>\n",
       "      <td>7</td>\n",
       "      <td>Pave</td>\n",
       "      <td>Normal</td>\n",
       "    </tr>\n",
       "    <tr>\n",
       "      <th>1</th>\n",
       "      <td>181500</td>\n",
       "      <td>1262</td>\n",
       "      <td>460</td>\n",
       "      <td>6</td>\n",
       "      <td>Pave</td>\n",
       "      <td>Normal</td>\n",
       "    </tr>\n",
       "    <tr>\n",
       "      <th>2</th>\n",
       "      <td>223500</td>\n",
       "      <td>1786</td>\n",
       "      <td>608</td>\n",
       "      <td>7</td>\n",
       "      <td>Pave</td>\n",
       "      <td>Normal</td>\n",
       "    </tr>\n",
       "    <tr>\n",
       "      <th>3</th>\n",
       "      <td>140000</td>\n",
       "      <td>1717</td>\n",
       "      <td>642</td>\n",
       "      <td>7</td>\n",
       "      <td>Pave</td>\n",
       "      <td>Abnorml</td>\n",
       "    </tr>\n",
       "    <tr>\n",
       "      <th>4</th>\n",
       "      <td>250000</td>\n",
       "      <td>2198</td>\n",
       "      <td>836</td>\n",
       "      <td>8</td>\n",
       "      <td>Pave</td>\n",
       "      <td>Normal</td>\n",
       "    </tr>\n",
       "  </tbody>\n",
       "</table>\n",
       "</div>"
      ],
      "text/plain": [
       "   SalePrice  GrLivArea  GarageArea  OverallQual Street SaleCondition\n",
       "0     208500       1710         548            7   Pave        Normal\n",
       "1     181500       1262         460            6   Pave        Normal\n",
       "2     223500       1786         608            7   Pave        Normal\n",
       "3     140000       1717         642            7   Pave       Abnorml\n",
       "4     250000       2198         836            8   Pave        Normal"
      ]
     },
     "execution_count": 10,
     "metadata": {},
     "output_type": "execute_result"
    }
   ],
   "source": [
    "data.head()"
   ]
  },
  {
   "cell_type": "code",
   "execution_count": 12,
   "metadata": {
    "id": "huD-w0YgPbGK"
   },
   "outputs": [],
   "source": [
    "data['Street'] = pd.get_dummies(data['Street'], drop_first=True)\n",
    "SaleCondition = pd.get_dummies(data['SaleCondition'], drop_first=True)\n",
    "data = data.drop(columns = ['SaleCondition'], axis=1)\n",
    "data = pd.concat([data, SaleCondition], axis=1)"
   ]
  },
  {
   "cell_type": "code",
   "execution_count": 14,
   "metadata": {
    "id": "iQxNvpF3PbGK"
   },
   "outputs": [],
   "source": [
    "data['part_garage'] = data['GarageArea']/data['GrLivArea']"
   ]
  },
  {
   "cell_type": "code",
   "execution_count": 16,
   "metadata": {
    "id": "zatATk0UPbGK"
   },
   "outputs": [],
   "source": [
    "x = ['GrLivArea', 'GarageArea', 'OverallQual', 'Street', 'AdjLand', 'Alloca',\n",
    "       'Family', 'Normal', 'Partial', 'part_garage']\n",
    "y = ['SalePrice']"
   ]
  },
  {
   "cell_type": "code",
   "execution_count": 20,
   "metadata": {
    "id": "6wZmnhN_PbGK"
   },
   "outputs": [],
   "source": [
    "from sklearn.model_selection import train_test_split\n",
    "\n",
    "Xtrain, Xtest, ytrain, ytest = train_test_split(data[x], data[y], train_size=0.7, random_state=123) "
   ]
  },
  {
   "cell_type": "markdown",
   "metadata": {
    "id": "3FiknUs7PbGK"
   },
   "source": [
    "Train a decision tree with default parameters on the training data, then evaluate its performance on the training and test data.\n"
   ]
  },
  {
   "cell_type": "code",
   "execution_count": 23,
   "metadata": {
    "id": "xVbIexiiPbGL"
   },
   "outputs": [
    {
     "data": {
      "text/html": [
       "<style>#sk-container-id-1 {\n",
       "  /* Definition of color scheme common for light and dark mode */\n",
       "  --sklearn-color-text: black;\n",
       "  --sklearn-color-line: gray;\n",
       "  /* Definition of color scheme for unfitted estimators */\n",
       "  --sklearn-color-unfitted-level-0: #fff5e6;\n",
       "  --sklearn-color-unfitted-level-1: #f6e4d2;\n",
       "  --sklearn-color-unfitted-level-2: #ffe0b3;\n",
       "  --sklearn-color-unfitted-level-3: chocolate;\n",
       "  /* Definition of color scheme for fitted estimators */\n",
       "  --sklearn-color-fitted-level-0: #f0f8ff;\n",
       "  --sklearn-color-fitted-level-1: #d4ebff;\n",
       "  --sklearn-color-fitted-level-2: #b3dbfd;\n",
       "  --sklearn-color-fitted-level-3: cornflowerblue;\n",
       "\n",
       "  /* Specific color for light theme */\n",
       "  --sklearn-color-text-on-default-background: var(--sg-text-color, var(--theme-code-foreground, var(--jp-content-font-color1, black)));\n",
       "  --sklearn-color-background: var(--sg-background-color, var(--theme-background, var(--jp-layout-color0, white)));\n",
       "  --sklearn-color-border-box: var(--sg-text-color, var(--theme-code-foreground, var(--jp-content-font-color1, black)));\n",
       "  --sklearn-color-icon: #696969;\n",
       "\n",
       "  @media (prefers-color-scheme: dark) {\n",
       "    /* Redefinition of color scheme for dark theme */\n",
       "    --sklearn-color-text-on-default-background: var(--sg-text-color, var(--theme-code-foreground, var(--jp-content-font-color1, white)));\n",
       "    --sklearn-color-background: var(--sg-background-color, var(--theme-background, var(--jp-layout-color0, #111)));\n",
       "    --sklearn-color-border-box: var(--sg-text-color, var(--theme-code-foreground, var(--jp-content-font-color1, white)));\n",
       "    --sklearn-color-icon: #878787;\n",
       "  }\n",
       "}\n",
       "\n",
       "#sk-container-id-1 {\n",
       "  color: var(--sklearn-color-text);\n",
       "}\n",
       "\n",
       "#sk-container-id-1 pre {\n",
       "  padding: 0;\n",
       "}\n",
       "\n",
       "#sk-container-id-1 input.sk-hidden--visually {\n",
       "  border: 0;\n",
       "  clip: rect(1px 1px 1px 1px);\n",
       "  clip: rect(1px, 1px, 1px, 1px);\n",
       "  height: 1px;\n",
       "  margin: -1px;\n",
       "  overflow: hidden;\n",
       "  padding: 0;\n",
       "  position: absolute;\n",
       "  width: 1px;\n",
       "}\n",
       "\n",
       "#sk-container-id-1 div.sk-dashed-wrapped {\n",
       "  border: 1px dashed var(--sklearn-color-line);\n",
       "  margin: 0 0.4em 0.5em 0.4em;\n",
       "  box-sizing: border-box;\n",
       "  padding-bottom: 0.4em;\n",
       "  background-color: var(--sklearn-color-background);\n",
       "}\n",
       "\n",
       "#sk-container-id-1 div.sk-container {\n",
       "  /* jupyter's `normalize.less` sets `[hidden] { display: none; }`\n",
       "     but bootstrap.min.css set `[hidden] { display: none !important; }`\n",
       "     so we also need the `!important` here to be able to override the\n",
       "     default hidden behavior on the sphinx rendered scikit-learn.org.\n",
       "     See: https://github.com/scikit-learn/scikit-learn/issues/21755 */\n",
       "  display: inline-block !important;\n",
       "  position: relative;\n",
       "}\n",
       "\n",
       "#sk-container-id-1 div.sk-text-repr-fallback {\n",
       "  display: none;\n",
       "}\n",
       "\n",
       "div.sk-parallel-item,\n",
       "div.sk-serial,\n",
       "div.sk-item {\n",
       "  /* draw centered vertical line to link estimators */\n",
       "  background-image: linear-gradient(var(--sklearn-color-text-on-default-background), var(--sklearn-color-text-on-default-background));\n",
       "  background-size: 2px 100%;\n",
       "  background-repeat: no-repeat;\n",
       "  background-position: center center;\n",
       "}\n",
       "\n",
       "/* Parallel-specific style estimator block */\n",
       "\n",
       "#sk-container-id-1 div.sk-parallel-item::after {\n",
       "  content: \"\";\n",
       "  width: 100%;\n",
       "  border-bottom: 2px solid var(--sklearn-color-text-on-default-background);\n",
       "  flex-grow: 1;\n",
       "}\n",
       "\n",
       "#sk-container-id-1 div.sk-parallel {\n",
       "  display: flex;\n",
       "  align-items: stretch;\n",
       "  justify-content: center;\n",
       "  background-color: var(--sklearn-color-background);\n",
       "  position: relative;\n",
       "}\n",
       "\n",
       "#sk-container-id-1 div.sk-parallel-item {\n",
       "  display: flex;\n",
       "  flex-direction: column;\n",
       "}\n",
       "\n",
       "#sk-container-id-1 div.sk-parallel-item:first-child::after {\n",
       "  align-self: flex-end;\n",
       "  width: 50%;\n",
       "}\n",
       "\n",
       "#sk-container-id-1 div.sk-parallel-item:last-child::after {\n",
       "  align-self: flex-start;\n",
       "  width: 50%;\n",
       "}\n",
       "\n",
       "#sk-container-id-1 div.sk-parallel-item:only-child::after {\n",
       "  width: 0;\n",
       "}\n",
       "\n",
       "/* Serial-specific style estimator block */\n",
       "\n",
       "#sk-container-id-1 div.sk-serial {\n",
       "  display: flex;\n",
       "  flex-direction: column;\n",
       "  align-items: center;\n",
       "  background-color: var(--sklearn-color-background);\n",
       "  padding-right: 1em;\n",
       "  padding-left: 1em;\n",
       "}\n",
       "\n",
       "\n",
       "/* Toggleable style: style used for estimator/Pipeline/ColumnTransformer box that is\n",
       "clickable and can be expanded/collapsed.\n",
       "- Pipeline and ColumnTransformer use this feature and define the default style\n",
       "- Estimators will overwrite some part of the style using the `sk-estimator` class\n",
       "*/\n",
       "\n",
       "/* Pipeline and ColumnTransformer style (default) */\n",
       "\n",
       "#sk-container-id-1 div.sk-toggleable {\n",
       "  /* Default theme specific background. It is overwritten whether we have a\n",
       "  specific estimator or a Pipeline/ColumnTransformer */\n",
       "  background-color: var(--sklearn-color-background);\n",
       "}\n",
       "\n",
       "/* Toggleable label */\n",
       "#sk-container-id-1 label.sk-toggleable__label {\n",
       "  cursor: pointer;\n",
       "  display: block;\n",
       "  width: 100%;\n",
       "  margin-bottom: 0;\n",
       "  padding: 0.5em;\n",
       "  box-sizing: border-box;\n",
       "  text-align: center;\n",
       "}\n",
       "\n",
       "#sk-container-id-1 label.sk-toggleable__label-arrow:before {\n",
       "  /* Arrow on the left of the label */\n",
       "  content: \"▸\";\n",
       "  float: left;\n",
       "  margin-right: 0.25em;\n",
       "  color: var(--sklearn-color-icon);\n",
       "}\n",
       "\n",
       "#sk-container-id-1 label.sk-toggleable__label-arrow:hover:before {\n",
       "  color: var(--sklearn-color-text);\n",
       "}\n",
       "\n",
       "/* Toggleable content - dropdown */\n",
       "\n",
       "#sk-container-id-1 div.sk-toggleable__content {\n",
       "  max-height: 0;\n",
       "  max-width: 0;\n",
       "  overflow: hidden;\n",
       "  text-align: left;\n",
       "  /* unfitted */\n",
       "  background-color: var(--sklearn-color-unfitted-level-0);\n",
       "}\n",
       "\n",
       "#sk-container-id-1 div.sk-toggleable__content.fitted {\n",
       "  /* fitted */\n",
       "  background-color: var(--sklearn-color-fitted-level-0);\n",
       "}\n",
       "\n",
       "#sk-container-id-1 div.sk-toggleable__content pre {\n",
       "  margin: 0.2em;\n",
       "  border-radius: 0.25em;\n",
       "  color: var(--sklearn-color-text);\n",
       "  /* unfitted */\n",
       "  background-color: var(--sklearn-color-unfitted-level-0);\n",
       "}\n",
       "\n",
       "#sk-container-id-1 div.sk-toggleable__content.fitted pre {\n",
       "  /* unfitted */\n",
       "  background-color: var(--sklearn-color-fitted-level-0);\n",
       "}\n",
       "\n",
       "#sk-container-id-1 input.sk-toggleable__control:checked~div.sk-toggleable__content {\n",
       "  /* Expand drop-down */\n",
       "  max-height: 200px;\n",
       "  max-width: 100%;\n",
       "  overflow: auto;\n",
       "}\n",
       "\n",
       "#sk-container-id-1 input.sk-toggleable__control:checked~label.sk-toggleable__label-arrow:before {\n",
       "  content: \"▾\";\n",
       "}\n",
       "\n",
       "/* Pipeline/ColumnTransformer-specific style */\n",
       "\n",
       "#sk-container-id-1 div.sk-label input.sk-toggleable__control:checked~label.sk-toggleable__label {\n",
       "  color: var(--sklearn-color-text);\n",
       "  background-color: var(--sklearn-color-unfitted-level-2);\n",
       "}\n",
       "\n",
       "#sk-container-id-1 div.sk-label.fitted input.sk-toggleable__control:checked~label.sk-toggleable__label {\n",
       "  background-color: var(--sklearn-color-fitted-level-2);\n",
       "}\n",
       "\n",
       "/* Estimator-specific style */\n",
       "\n",
       "/* Colorize estimator box */\n",
       "#sk-container-id-1 div.sk-estimator input.sk-toggleable__control:checked~label.sk-toggleable__label {\n",
       "  /* unfitted */\n",
       "  background-color: var(--sklearn-color-unfitted-level-2);\n",
       "}\n",
       "\n",
       "#sk-container-id-1 div.sk-estimator.fitted input.sk-toggleable__control:checked~label.sk-toggleable__label {\n",
       "  /* fitted */\n",
       "  background-color: var(--sklearn-color-fitted-level-2);\n",
       "}\n",
       "\n",
       "#sk-container-id-1 div.sk-label label.sk-toggleable__label,\n",
       "#sk-container-id-1 div.sk-label label {\n",
       "  /* The background is the default theme color */\n",
       "  color: var(--sklearn-color-text-on-default-background);\n",
       "}\n",
       "\n",
       "/* On hover, darken the color of the background */\n",
       "#sk-container-id-1 div.sk-label:hover label.sk-toggleable__label {\n",
       "  color: var(--sklearn-color-text);\n",
       "  background-color: var(--sklearn-color-unfitted-level-2);\n",
       "}\n",
       "\n",
       "/* Label box, darken color on hover, fitted */\n",
       "#sk-container-id-1 div.sk-label.fitted:hover label.sk-toggleable__label.fitted {\n",
       "  color: var(--sklearn-color-text);\n",
       "  background-color: var(--sklearn-color-fitted-level-2);\n",
       "}\n",
       "\n",
       "/* Estimator label */\n",
       "\n",
       "#sk-container-id-1 div.sk-label label {\n",
       "  font-family: monospace;\n",
       "  font-weight: bold;\n",
       "  display: inline-block;\n",
       "  line-height: 1.2em;\n",
       "}\n",
       "\n",
       "#sk-container-id-1 div.sk-label-container {\n",
       "  text-align: center;\n",
       "}\n",
       "\n",
       "/* Estimator-specific */\n",
       "#sk-container-id-1 div.sk-estimator {\n",
       "  font-family: monospace;\n",
       "  border: 1px dotted var(--sklearn-color-border-box);\n",
       "  border-radius: 0.25em;\n",
       "  box-sizing: border-box;\n",
       "  margin-bottom: 0.5em;\n",
       "  /* unfitted */\n",
       "  background-color: var(--sklearn-color-unfitted-level-0);\n",
       "}\n",
       "\n",
       "#sk-container-id-1 div.sk-estimator.fitted {\n",
       "  /* fitted */\n",
       "  background-color: var(--sklearn-color-fitted-level-0);\n",
       "}\n",
       "\n",
       "/* on hover */\n",
       "#sk-container-id-1 div.sk-estimator:hover {\n",
       "  /* unfitted */\n",
       "  background-color: var(--sklearn-color-unfitted-level-2);\n",
       "}\n",
       "\n",
       "#sk-container-id-1 div.sk-estimator.fitted:hover {\n",
       "  /* fitted */\n",
       "  background-color: var(--sklearn-color-fitted-level-2);\n",
       "}\n",
       "\n",
       "/* Specification for estimator info (e.g. \"i\" and \"?\") */\n",
       "\n",
       "/* Common style for \"i\" and \"?\" */\n",
       "\n",
       ".sk-estimator-doc-link,\n",
       "a:link.sk-estimator-doc-link,\n",
       "a:visited.sk-estimator-doc-link {\n",
       "  float: right;\n",
       "  font-size: smaller;\n",
       "  line-height: 1em;\n",
       "  font-family: monospace;\n",
       "  background-color: var(--sklearn-color-background);\n",
       "  border-radius: 1em;\n",
       "  height: 1em;\n",
       "  width: 1em;\n",
       "  text-decoration: none !important;\n",
       "  margin-left: 1ex;\n",
       "  /* unfitted */\n",
       "  border: var(--sklearn-color-unfitted-level-1) 1pt solid;\n",
       "  color: var(--sklearn-color-unfitted-level-1);\n",
       "}\n",
       "\n",
       ".sk-estimator-doc-link.fitted,\n",
       "a:link.sk-estimator-doc-link.fitted,\n",
       "a:visited.sk-estimator-doc-link.fitted {\n",
       "  /* fitted */\n",
       "  border: var(--sklearn-color-fitted-level-1) 1pt solid;\n",
       "  color: var(--sklearn-color-fitted-level-1);\n",
       "}\n",
       "\n",
       "/* On hover */\n",
       "div.sk-estimator:hover .sk-estimator-doc-link:hover,\n",
       ".sk-estimator-doc-link:hover,\n",
       "div.sk-label-container:hover .sk-estimator-doc-link:hover,\n",
       ".sk-estimator-doc-link:hover {\n",
       "  /* unfitted */\n",
       "  background-color: var(--sklearn-color-unfitted-level-3);\n",
       "  color: var(--sklearn-color-background);\n",
       "  text-decoration: none;\n",
       "}\n",
       "\n",
       "div.sk-estimator.fitted:hover .sk-estimator-doc-link.fitted:hover,\n",
       ".sk-estimator-doc-link.fitted:hover,\n",
       "div.sk-label-container:hover .sk-estimator-doc-link.fitted:hover,\n",
       ".sk-estimator-doc-link.fitted:hover {\n",
       "  /* fitted */\n",
       "  background-color: var(--sklearn-color-fitted-level-3);\n",
       "  color: var(--sklearn-color-background);\n",
       "  text-decoration: none;\n",
       "}\n",
       "\n",
       "/* Span, style for the box shown on hovering the info icon */\n",
       ".sk-estimator-doc-link span {\n",
       "  display: none;\n",
       "  z-index: 9999;\n",
       "  position: relative;\n",
       "  font-weight: normal;\n",
       "  right: .2ex;\n",
       "  padding: .5ex;\n",
       "  margin: .5ex;\n",
       "  width: min-content;\n",
       "  min-width: 20ex;\n",
       "  max-width: 50ex;\n",
       "  color: var(--sklearn-color-text);\n",
       "  box-shadow: 2pt 2pt 4pt #999;\n",
       "  /* unfitted */\n",
       "  background: var(--sklearn-color-unfitted-level-0);\n",
       "  border: .5pt solid var(--sklearn-color-unfitted-level-3);\n",
       "}\n",
       "\n",
       ".sk-estimator-doc-link.fitted span {\n",
       "  /* fitted */\n",
       "  background: var(--sklearn-color-fitted-level-0);\n",
       "  border: var(--sklearn-color-fitted-level-3);\n",
       "}\n",
       "\n",
       ".sk-estimator-doc-link:hover span {\n",
       "  display: block;\n",
       "}\n",
       "\n",
       "/* \"?\"-specific style due to the `<a>` HTML tag */\n",
       "\n",
       "#sk-container-id-1 a.estimator_doc_link {\n",
       "  float: right;\n",
       "  font-size: 1rem;\n",
       "  line-height: 1em;\n",
       "  font-family: monospace;\n",
       "  background-color: var(--sklearn-color-background);\n",
       "  border-radius: 1rem;\n",
       "  height: 1rem;\n",
       "  width: 1rem;\n",
       "  text-decoration: none;\n",
       "  /* unfitted */\n",
       "  color: var(--sklearn-color-unfitted-level-1);\n",
       "  border: var(--sklearn-color-unfitted-level-1) 1pt solid;\n",
       "}\n",
       "\n",
       "#sk-container-id-1 a.estimator_doc_link.fitted {\n",
       "  /* fitted */\n",
       "  border: var(--sklearn-color-fitted-level-1) 1pt solid;\n",
       "  color: var(--sklearn-color-fitted-level-1);\n",
       "}\n",
       "\n",
       "/* On hover */\n",
       "#sk-container-id-1 a.estimator_doc_link:hover {\n",
       "  /* unfitted */\n",
       "  background-color: var(--sklearn-color-unfitted-level-3);\n",
       "  color: var(--sklearn-color-background);\n",
       "  text-decoration: none;\n",
       "}\n",
       "\n",
       "#sk-container-id-1 a.estimator_doc_link.fitted:hover {\n",
       "  /* fitted */\n",
       "  background-color: var(--sklearn-color-fitted-level-3);\n",
       "}\n",
       "</style><div id=\"sk-container-id-1\" class=\"sk-top-container\"><div class=\"sk-text-repr-fallback\"><pre>DecisionTreeRegressor()</pre><b>In a Jupyter environment, please rerun this cell to show the HTML representation or trust the notebook. <br />On GitHub, the HTML representation is unable to render, please try loading this page with nbviewer.org.</b></div><div class=\"sk-container\" hidden><div class=\"sk-item\"><div class=\"sk-estimator fitted sk-toggleable\"><input class=\"sk-toggleable__control sk-hidden--visually\" id=\"sk-estimator-id-1\" type=\"checkbox\" checked><label for=\"sk-estimator-id-1\" class=\"sk-toggleable__label fitted sk-toggleable__label-arrow fitted\">&nbsp;&nbsp;DecisionTreeRegressor<a class=\"sk-estimator-doc-link fitted\" rel=\"noreferrer\" target=\"_blank\" href=\"https://scikit-learn.org/1.4/modules/generated/sklearn.tree.DecisionTreeRegressor.html\">?<span>Documentation for DecisionTreeRegressor</span></a><span class=\"sk-estimator-doc-link fitted\">i<span>Fitted</span></span></label><div class=\"sk-toggleable__content fitted\"><pre>DecisionTreeRegressor()</pre></div> </div></div></div></div>"
      ],
      "text/plain": [
       "DecisionTreeRegressor()"
      ]
     },
     "execution_count": 23,
     "metadata": {},
     "output_type": "execute_result"
    }
   ],
   "source": [
    "from sklearn.tree import DecisionTreeRegressor\n",
    "from sklearn.metrics import r2_score\n",
    "\n",
    "dtc = DecisionTreeRegressor()\n",
    "dtc.fit(Xtrain, ytrain)"
   ]
  },
  {
   "cell_type": "code",
   "execution_count": 25,
   "metadata": {},
   "outputs": [
    {
     "name": "stdout",
     "output_type": "stream",
     "text": [
      "0.9997875001371536 0.6220210271530741\n"
     ]
    }
   ],
   "source": [
    "pred_dtc_train = dtc.predict(Xtrain)\n",
    "pred_dtc_test = dtc.predict(Xtest)\n",
    "\n",
    "print(r2_score(ytrain, pred_dtc_train), r2_score(ytest, pred_dtc_test))"
   ]
  },
  {
   "cell_type": "markdown",
   "metadata": {
    "id": "fXc3niR9PbGL"
   },
   "source": [
    "### The model performed poorly, as the metrics on the training and test data are significantly different (0.99 on the training data and 0.62 on the test data). This indicates that the model has overfitted: it is too closely tailored to the training data and fails to generalize well to new, unseen data."
   ]
  },
  {
   "cell_type": "markdown",
   "metadata": {
    "id": "4zDIYmGbPbGL"
   },
   "source": [
    "Now, I will evaluate the model’s quality (R²) using 3-fold cross-validation."
   ]
  },
  {
   "cell_type": "code",
   "execution_count": 57,
   "metadata": {
    "id": "QRIF8VEBPbGM"
   },
   "outputs": [
    {
     "data": {
      "text/plain": [
       "0.6240906529968266"
      ]
     },
     "execution_count": 57,
     "metadata": {},
     "output_type": "execute_result"
    }
   ],
   "source": [
    "from sklearn.model_selection import cross_val_score\n",
    "\n",
    "scores = cross_val_score(DecisionTreeRegressor(),data[x], data[y], scoring = 'r2')\n",
    "scores.mean()"
   ]
  },
  {
   "cell_type": "markdown",
   "metadata": {
    "id": "C8YKyXPnPbGM"
   },
   "source": [
    "### The average performance on cross-validation closely matches the performance on the test set. The model is heavily overfitting to the data."
   ]
  },
  {
   "cell_type": "markdown",
   "metadata": {
    "id": "MB_0Xyd3PbGM"
   },
   "source": [
    "We will do cross-validation only on the training data (cv=3, scoring=‘r2’) and search for the depth in the range from 1 to 20, inclusive."
   ]
  },
  {
   "cell_type": "code",
   "execution_count": 65,
   "metadata": {
    "id": "U-ta8EcfPbGM"
   },
   "outputs": [
    {
     "name": "stdout",
     "output_type": "stream",
     "text": [
      "1 0.4730286732671081\n",
      "2 0.5848595301105214\n",
      "3 0.5704306628708652\n",
      "4 0.6003506490149615\n",
      "5 0.6090310544693077\n",
      "6 0.6194629546038862\n",
      "7 0.5855510981482211\n",
      "8 0.5839111182809248\n",
      "9 0.5829028360342482\n",
      "10 0.5621952794276512\n",
      "11 0.5521538121282267\n",
      "12 0.5589314437756175\n",
      "13 0.5469007167595442\n",
      "14 0.558020720339092\n",
      "15 0.5422830602385652\n",
      "16 0.5432523448400424\n",
      "17 0.5456021459541435\n",
      "18 0.531527916398859\n",
      "19 0.5536253023245945\n",
      "20 0.5536623284874076\n",
      "6\n"
     ]
    }
   ],
   "source": [
    "max_score = -1\n",
    "best_depth = -1\n",
    "\n",
    "for d in np.arange(1,21):\n",
    "    tree = DecisionTreeRegressor(max_depth = d)\n",
    "\n",
    "    score = cross_val_score(tree, Xtrain, ytrain, cv=3, scoring='r2').mean()\n",
    "    print(d, score)\n",
    "\n",
    "    if score > max_score:\n",
    "        max_score = score\n",
    "        best_depth = d\n",
    "\n",
    "print(best_depth)"
   ]
  },
  {
   "cell_type": "markdown",
   "metadata": {
    "id": "QpRMgwdPPbGN"
   },
   "source": [
    "Now, for the found max_depth value, train the decision tree on the entire training data, make predictions on both the training and test sets, and evaluate the metric values.\n"
   ]
  },
  {
   "cell_type": "code",
   "execution_count": 68,
   "metadata": {
    "id": "wiQJHkgFPbGN"
   },
   "outputs": [
    {
     "name": "stdout",
     "output_type": "stream",
     "text": [
      "0.8793304502214313 0.7470719841996614\n"
     ]
    }
   ],
   "source": [
    "dtc = DecisionTreeRegressor(max_depth=best_depth)\n",
    "dtc.fit(Xtrain, ytrain)\n",
    "\n",
    "pred_train = dtc.predict(Xtrain)\n",
    "pred_test = dtc.predict(Xtest)\n",
    "\n",
    "print(r2_score(ytrain, pred_train), r2_score(ytest, pred_test))"
   ]
  },
  {
   "cell_type": "markdown",
   "metadata": {
    "id": "TXDXq9oUPbGN"
   },
   "source": [
    "### The model’s quality has improved after selecting the optimal max_depth parameter. By tuning the depth of the tree, we achieved better generalization, resulting in more consistent performance on both the training and test datasets. The model is now less prone to overfitting, leading to more reliable predictions."
   ]
  },
  {
   "cell_type": "markdown",
   "metadata": {
    "id": "iT2-BKGVPbGO"
   },
   "source": [
    "Now, for the found optimal tree depth, let’s tune the min_samples_split parameter within the range of 1 to 15 with a step size of 1. This should also be done using cross-validation on the training data (similar to the tuning of max_depth)."
   ]
  },
  {
   "cell_type": "code",
   "execution_count": 74,
   "metadata": {
    "id": "fAotth14PbGO"
   },
   "outputs": [
    {
     "name": "stdout",
     "output_type": "stream",
     "text": [
      "10 0.6659990326800652\n"
     ]
    }
   ],
   "source": [
    "score_samples = -np.inf\n",
    "min_samples_split = -1\n",
    "for i in range(2,16):\n",
    "    score = cross_val_score(DecisionTreeRegressor(max_depth=best_depth, min_samples_split = i),\n",
    "                            Xtrain, ytrain, cv = 3, scoring = 'r2')\n",
    "    if score.mean() > score_samples:\n",
    "        score_samples = score.mean()\n",
    "        min_samples_split = i\n",
    "print(min_samples_split, score_samples)"
   ]
  },
  {
   "cell_type": "code",
   "execution_count": 77,
   "metadata": {
    "id": "-d1OCzUoPbGO"
   },
   "outputs": [
    {
     "name": "stdout",
     "output_type": "stream",
     "text": [
      "0.874009469665285 0.7622067742643301\n"
     ]
    }
   ],
   "source": [
    "dtc = DecisionTreeRegressor(max_depth=best_depth, min_samples_split = 10)\n",
    "\n",
    "dtc.fit(Xtrain, ytrain)\n",
    "\n",
    "pred_dtc_train = dtc.predict(Xtrain)\n",
    "pred_dtc_test = dtc.predict(Xtest)\n",
    "\n",
    "print(r2_score(ytrain, pred_dtc_train), r2_score(ytest, pred_dtc_test))"
   ]
  },
  {
   "cell_type": "markdown",
   "metadata": {
    "id": "Xg32f6pTPbGP"
   },
   "source": [
    "### Overfitting has decreased even further. The model is now performing even better on new data."
   ]
  },
  {
   "cell_type": "markdown",
   "metadata": {
    "id": "3vLXeLSbPbGP"
   },
   "source": [
    "Now, I was selecting max_depth and min_samples_split sequentially, but it is possible that the optimal combination of these hyperparameters could be different when selected simultaneously.\n",
    "\n",
    "Using a nested loop with the same cross-validation scheme on the training data, we will find the pair of values (max_depth, min_samples_split) that achieves the best average score on cross-validation."
   ]
  },
  {
   "cell_type": "code",
   "execution_count": 81,
   "metadata": {
    "id": "RXuct0r6PbGP"
   },
   "outputs": [
    {
     "name": "stdout",
     "output_type": "stream",
     "text": [
      "5 7\n"
     ]
    }
   ],
   "source": [
    "max_score = -1\n",
    "mss = -1\n",
    "md = -1\n",
    "\n",
    "for n in range(1 , 21):\n",
    "    for m in range(2 , 16):\n",
    "        score = cross_val_score(DecisionTreeRegressor(max_depth=n, min_samples_split=m),Xtrain, ytrain, cv=3, scoring ='r2')\n",
    "        if max_score < score.mean():\n",
    "            max_score = score.mean()\n",
    "            md = n\n",
    "            mss = m\n",
    "            \n",
    "print(md, mss)"
   ]
  },
  {
   "cell_type": "code",
   "execution_count": 83,
   "metadata": {
    "id": "IgMUDLHjPbGP"
   },
   "outputs": [
    {
     "name": "stdout",
     "output_type": "stream",
     "text": [
      "0.8304914297420238 0.7811238056960585\n"
     ]
    }
   ],
   "source": [
    "dtc = DecisionTreeRegressor(max_depth=md, min_samples_split = mss)\n",
    "\n",
    "dtc.fit(Xtrain, ytrain)\n",
    "\n",
    "pred_dtc_train = dtc.predict(Xtrain)\n",
    "pred_dtc_test = dtc.predict(Xtest)\n",
    "\n",
    "print(r2_score(ytrain, pred_dtc_train), r2_score(ytest, pred_dtc_test))"
   ]
  },
  {
   "cell_type": "markdown",
   "metadata": {
    "id": "ydp7Rt5zPbGQ"
   },
   "source": [
    "### By simultaneously tuning the hyperparameters max_depth and min_samples_split, we were able to improve the model’s performance. This confirms that joint optimization of these parameters can be more effective than sequential tuning. The model demonstrated better performance on new data, indicating reduced overfitting and better generalization ability."
   ]
  },
  {
   "cell_type": "markdown",
   "metadata": {
    "id": "tnDUMH41PbGQ"
   },
   "source": [
    "Now let’s try to reduce overfitting not by tuning different hyperparameters that limit the tree structure, but by pruning. We will use the cost_complexity_pruning_path function."
   ]
  },
  {
   "cell_type": "code",
   "execution_count": 87,
   "metadata": {
    "id": "sA188Us7PbGQ"
   },
   "outputs": [],
   "source": [
    "dtr = DecisionTreeRegressor()\n",
    "dtr.fit(Xtrain, ytrain)\n",
    "\n",
    "path = dtr.cost_complexity_pruning_path(Xtrain, ytrain)\n",
    "alp = path['ccp_alphas']"
   ]
  },
  {
   "cell_type": "code",
   "execution_count": 89,
   "metadata": {
    "id": "6YFs98bFPbGQ"
   },
   "outputs": [
    {
     "name": "stdout",
     "output_type": "stream",
     "text": [
      "15142504.949450381 0.798560696099226\n"
     ]
    },
    {
     "data": {
      "image/png": "[encoded data removed]",
      "text/plain": [
       "<Figure size 640x480 with 1 Axes>"
      ]
     },
     "metadata": {},
     "output_type": "display_data"
    }
   ],
   "source": [
    "r2_train, r2_test = [],[]\n",
    "max_alp = -1\n",
    "max_score_test = -1\n",
    "for i in alp:\n",
    "    dtr = DecisionTreeRegressor(ccp_alpha=i)\n",
    "    dtr.fit(Xtrain, ytrain)\n",
    "    y_pred_train = dtr.predict(Xtrain)\n",
    "    y_pred_test = dtr.predict(Xtest)\n",
    "    \n",
    "    r2_train.append(r2_score(ytrain, y_pred_train))\n",
    "    r2_test.append(r2_score(ytest, y_pred_test))\n",
    "    if max_score_test < r2_score(ytest, y_pred_test):\n",
    "        max_score_test = r2_score(ytest, y_pred_test)\n",
    "        max_alp = i\n",
    "sns.set()\n",
    "sns.lineplot(y = r2_train, x = alp, label = 'Train r2')\n",
    "sns.lineplot(y = r2_test, x = alp, label = 'Test r2')\n",
    "print(max_alp, max_score_test)"
   ]
  },
  {
   "cell_type": "markdown",
   "metadata": {
    "id": "hjojS0A3PbGR"
   },
   "source": [
    "Для найденного значения $\\alpha$ обучите дерево с параметром ccp_alpha равным $\\alpha$ на тренировочных данных, сделайте предсказание на трейне и тесте и оцените качество предсказания на новых данных и переобучение модели.\n",
    "\n",
    "Какая модель в итоге получилась лучше: с ограничением max_depth и min_samples_split или при помощи стрижки?"
   ]
  },
  {
   "cell_type": "code",
   "execution_count": 253,
   "metadata": {
    "id": "7VOjKzQxPbGR"
   },
   "outputs": [
    {
     "name": "stdout",
     "output_type": "stream",
     "text": [
      "0.8556259974026101 0.794217022920247\n"
     ]
    }
   ],
   "source": [
    "dtr = DecisionTreeRegressor(ccp_alpha = max_alp)\n",
    "dtr.fit(Xtrain, ytrain)\n",
    "\n",
    "y_pred_train = dtr.predict(Xtrain)\n",
    "y_pred_test = dtr.predict(Xtest)\n",
    "\n",
    "print(r2_score(ytrain, y_pred_train), r2_score(ytest, y_pred_test))"
   ]
  },
  {
   "cell_type": "markdown",
   "metadata": {
    "id": "GZCJNfIiPbGR"
   },
   "source": [
    "### I tuned the alpha parameter, and using the pruning method significantly improved the model’s performance. This helped reduce overfitting and increase the overall accuracy of the model."
   ]
  }
 ],
 "metadata": {
  "colab": {
   "collapsed_sections": [
    "fXc3niR9PbGL",
    "C8YKyXPnPbGM",
    "TXDXq9oUPbGN",
    "Xg32f6pTPbGP",
    "ydp7Rt5zPbGQ",
    "GZCJNfIiPbGR"
   ],
   "provenance": []
  },
  "kernelspec": {
   "display_name": "Python 3 (ipykernel)",
   "language": "python",
   "name": "python3"
  },
  "language_info": {
   "codemirror_mode": {
    "name": "ipython",
    "version": 3
   },
   "file_extension": ".py",
   "mimetype": "text/x-python",
   "name": "python",
   "nbconvert_exporter": "python",
   "pygments_lexer": "ipython3",
   "version": "3.12.4"
  }
 },
 "nbformat": 4,
 "nbformat_minor": 4
}
