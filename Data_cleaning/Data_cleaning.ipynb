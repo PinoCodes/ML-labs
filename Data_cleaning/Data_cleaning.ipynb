{
 "cells": [
  {
   "cell_type": "markdown",
   "metadata": {
    "id": "o6I4n4hwCgV5"
   },
   "source": [
    "# Data Cleaning"
   ]
  },
  {
   "cell_type": "markdown",
   "metadata": {
    "id": "7TcMEEhWCmMs"
   },
   "source": [
    "## Purpose \n",
    "\n",
    "- Learn to perform data cleaning and preparation for further use in a machine learning task."
   ]
  },
  {
   "cell_type": "markdown",
   "metadata": {
    "id": "MMergpE8Fj8-"
   },
   "source": [
    "### Data Description\n",
    "\n",
    "The file Mall_Customers.csv is provided, containing the following data on supermarket chain customers:\n",
    "- CustomerID — Customer identifier.\n",
    "- Genre – Customer gender.\n",
    "- Age – Customer age.\n",
    "- Annual Income (k\\$) – Customer’s annual income in thousand dollars.\n",
    "- Spending Score (1–100) – Customer rating, target variable."
   ]
  },
  {
   "cell_type": "markdown",
   "metadata": {
    "id": "9pfNcyY_FoV7"
   },
   "source": [
    "### 1\n",
    "\n",
    "Let’s load the data from the file Mall_Customers.csv into the notebook and display the first five rows on the screen."
   ]
  },
  {
   "cell_type": "code",
   "execution_count": 3,
   "metadata": {
    "id": "9Q82jW1UCjGi"
   },
   "outputs": [],
   "source": [
    "import pandas as pd\n",
    "import matplotlib.pyplot as plt"
   ]
  },
  {
   "cell_type": "code",
   "execution_count": 4,
   "metadata": {},
   "outputs": [
    {
     "data": {
      "text/html": [
       "<div>\n",
       "<style scoped>\n",
       "    .dataframe tbody tr th:only-of-type {\n",
       "        vertical-align: middle;\n",
       "    }\n",
       "\n",
       "    .dataframe tbody tr th {\n",
       "        vertical-align: top;\n",
       "    }\n",
       "\n",
       "    .dataframe thead th {\n",
       "        text-align: right;\n",
       "    }\n",
       "</style>\n",
       "<table border=\"1\" class=\"dataframe\">\n",
       "  <thead>\n",
       "    <tr style=\"text-align: right;\">\n",
       "      <th></th>\n",
       "      <th>CustomerID</th>\n",
       "      <th>Genre</th>\n",
       "      <th>Age</th>\n",
       "      <th>Annual Income (k$)</th>\n",
       "      <th>Spending Score (1-100)</th>\n",
       "    </tr>\n",
       "  </thead>\n",
       "  <tbody>\n",
       "    <tr>\n",
       "      <th>0</th>\n",
       "      <td>1</td>\n",
       "      <td>Male</td>\n",
       "      <td>19.0</td>\n",
       "      <td>15.0</td>\n",
       "      <td>39</td>\n",
       "    </tr>\n",
       "    <tr>\n",
       "      <th>1</th>\n",
       "      <td>2</td>\n",
       "      <td>Male</td>\n",
       "      <td>NaN</td>\n",
       "      <td>NaN</td>\n",
       "      <td>81</td>\n",
       "    </tr>\n",
       "    <tr>\n",
       "      <th>2</th>\n",
       "      <td>3</td>\n",
       "      <td>Female</td>\n",
       "      <td>NaN</td>\n",
       "      <td>16.0</td>\n",
       "      <td>6</td>\n",
       "    </tr>\n",
       "    <tr>\n",
       "      <th>3</th>\n",
       "      <td>4</td>\n",
       "      <td>Female</td>\n",
       "      <td>23.0</td>\n",
       "      <td>16.0</td>\n",
       "      <td>77</td>\n",
       "    </tr>\n",
       "    <tr>\n",
       "      <th>4</th>\n",
       "      <td>5</td>\n",
       "      <td>Female</td>\n",
       "      <td>31.0</td>\n",
       "      <td>17.0</td>\n",
       "      <td>40</td>\n",
       "    </tr>\n",
       "  </tbody>\n",
       "</table>\n",
       "</div>"
      ],
      "text/plain": [
       "   CustomerID   Genre   Age  Annual Income (k$)  Spending Score (1-100)\n",
       "0           1    Male  19.0                15.0                      39\n",
       "1           2    Male   NaN                 NaN                      81\n",
       "2           3  Female   NaN                16.0                       6\n",
       "3           4  Female  23.0                16.0                      77\n",
       "4           5  Female  31.0                17.0                      40"
      ]
     },
     "execution_count": 4,
     "metadata": {},
     "output_type": "execute_result"
    }
   ],
   "source": [
    "df = pd.read_csv('Mall_Customers.csv')\n",
    "df.head()"
   ]
  },
  {
   "cell_type": "markdown",
   "metadata": {
    "id": "dZ6Tm3koGft2"
   },
   "source": [
    "### 2\n",
    "\n",
    "Let’s conduct an exploratory analysis of the loaded data. Attributes for analysis:\n",
    "- Number of missing values in each feature.\n",
    "- Feature distributions.\n",
    "- Possible outliers or anomalies.\n",
    "\n"
   ]
  },
  {
   "cell_type": "code",
   "execution_count": 5,
   "metadata": {
    "id": "zczQG5MoHulI"
   },
   "outputs": [
    {
     "data": {
      "text/plain": [
       "CustomerID                 0\n",
       "Genre                     19\n",
       "Age                       20\n",
       "Annual Income (k$)        20\n",
       "Spending Score (1-100)     0\n",
       "dtype: int64"
      ]
     },
     "execution_count": 5,
     "metadata": {},
     "output_type": "execute_result"
    }
   ],
   "source": [
    "df.isna().sum()"
   ]
  },
  {
   "cell_type": "code",
   "execution_count": 6,
   "metadata": {},
   "outputs": [
    {
     "data": {
      "text/plain": [
       "Genre\n",
       "Female     102\n",
       "Male        77\n",
       "Feemale      2\n",
       "Name: count, dtype: int64"
      ]
     },
     "execution_count": 6,
     "metadata": {},
     "output_type": "execute_result"
    }
   ],
   "source": [
    "df['Genre'].value_counts() # Feemale это опечатка"
   ]
  },
  {
   "cell_type": "code",
   "execution_count": 7,
   "metadata": {},
   "outputs": [],
   "source": [
    "df['Genre'] = df['Genre'].replace('Feemale','Female')"
   ]
  },
  {
   "cell_type": "code",
   "execution_count": 8,
   "metadata": {},
   "outputs": [
    {
     "data": {
      "text/html": [
       "<div>\n",
       "<style scoped>\n",
       "    .dataframe tbody tr th:only-of-type {\n",
       "        vertical-align: middle;\n",
       "    }\n",
       "\n",
       "    .dataframe tbody tr th {\n",
       "        vertical-align: top;\n",
       "    }\n",
       "\n",
       "    .dataframe thead th {\n",
       "        text-align: right;\n",
       "    }\n",
       "</style>\n",
       "<table border=\"1\" class=\"dataframe\">\n",
       "  <thead>\n",
       "    <tr style=\"text-align: right;\">\n",
       "      <th></th>\n",
       "      <th>CustomerID</th>\n",
       "      <th>Age</th>\n",
       "      <th>Annual Income (k$)</th>\n",
       "      <th>Spending Score (1-100)</th>\n",
       "    </tr>\n",
       "  </thead>\n",
       "  <tbody>\n",
       "    <tr>\n",
       "      <th>count</th>\n",
       "      <td>200.000000</td>\n",
       "      <td>180.000000</td>\n",
       "      <td>180.000000</td>\n",
       "      <td>200.000000</td>\n",
       "    </tr>\n",
       "    <tr>\n",
       "      <th>mean</th>\n",
       "      <td>100.500000</td>\n",
       "      <td>39.894444</td>\n",
       "      <td>5615.433333</td>\n",
       "      <td>50.200000</td>\n",
       "    </tr>\n",
       "    <tr>\n",
       "      <th>std</th>\n",
       "      <td>57.879185</td>\n",
       "      <td>16.842848</td>\n",
       "      <td>74531.115872</td>\n",
       "      <td>25.823522</td>\n",
       "    </tr>\n",
       "    <tr>\n",
       "      <th>min</th>\n",
       "      <td>1.000000</td>\n",
       "      <td>18.000000</td>\n",
       "      <td>15.000000</td>\n",
       "      <td>1.000000</td>\n",
       "    </tr>\n",
       "    <tr>\n",
       "      <th>25%</th>\n",
       "      <td>50.750000</td>\n",
       "      <td>29.000000</td>\n",
       "      <td>42.000000</td>\n",
       "      <td>34.750000</td>\n",
       "    </tr>\n",
       "    <tr>\n",
       "      <th>50%</th>\n",
       "      <td>100.500000</td>\n",
       "      <td>36.000000</td>\n",
       "      <td>61.000000</td>\n",
       "      <td>50.000000</td>\n",
       "    </tr>\n",
       "    <tr>\n",
       "      <th>75%</th>\n",
       "      <td>150.250000</td>\n",
       "      <td>49.000000</td>\n",
       "      <td>78.000000</td>\n",
       "      <td>73.000000</td>\n",
       "    </tr>\n",
       "    <tr>\n",
       "      <th>max</th>\n",
       "      <td>200.000000</td>\n",
       "      <td>135.000000</td>\n",
       "      <td>1000000.000000</td>\n",
       "      <td>99.000000</td>\n",
       "    </tr>\n",
       "  </tbody>\n",
       "</table>\n",
       "</div>"
      ],
      "text/plain": [
       "       CustomerID         Age  Annual Income (k$)  Spending Score (1-100)\n",
       "count  200.000000  180.000000          180.000000              200.000000\n",
       "mean   100.500000   39.894444         5615.433333               50.200000\n",
       "std     57.879185   16.842848        74531.115872               25.823522\n",
       "min      1.000000   18.000000           15.000000                1.000000\n",
       "25%     50.750000   29.000000           42.000000               34.750000\n",
       "50%    100.500000   36.000000           61.000000               50.000000\n",
       "75%    150.250000   49.000000           78.000000               73.000000\n",
       "max    200.000000  135.000000      1000000.000000               99.000000"
      ]
     },
     "execution_count": 8,
     "metadata": {},
     "output_type": "execute_result"
    }
   ],
   "source": [
    "df.describe()# возраст 135 лет явно опечатка, удалим эту строку, так же в столбце Annual Income (k$) тоже выброс"
   ]
  },
  {
   "cell_type": "code",
   "execution_count": 9,
   "metadata": {},
   "outputs": [],
   "source": [
    "df = df[df['Age']<=110]\n",
    "df = df[df['Annual Income (k$)']<1000000]"
   ]
  },
  {
   "cell_type": "code",
   "execution_count": 10,
   "metadata": {},
   "outputs": [
    {
     "name": "stdout",
     "output_type": "stream",
     "text": [
      "Hist Age\n"
     ]
    },
    {
     "data": {
      "image/png": "[encoded data removed]",
      "text/plain": [
       "<Figure size 640x480 with 1 Axes>"
      ]
     },
     "metadata": {},
     "output_type": "display_data"
    },
    {
     "name": "stdout",
     "output_type": "stream",
     "text": [
      "Hist Annual Income (k$)\n"
     ]
    },
    {
     "data": {
      "image/png": "[encoded data removed]",
      "text/plain": [
       "<Figure size 640x480 with 1 Axes>"
      ]
     },
     "metadata": {},
     "output_type": "display_data"
    },
    {
     "name": "stdout",
     "output_type": "stream",
     "text": [
      "Hist Spending Score (1-100)\n"
     ]
    },
    {
     "data": {
      "image/png": "[encoded data removed]",
      "text/plain": [
       "<Figure size 640x480 with 1 Axes>"
      ]
     },
     "metadata": {},
     "output_type": "display_data"
    }
   ],
   "source": [
    "num_cols = ['Age','Annual Income (k$)','Spending Score (1-100)']\n",
    "\n",
    "for i in num_cols:\n",
    "    print(f'Hist {i}')\n",
    "    df[i].hist(bins = 50)\n",
    "    plt.show()"
   ]
  },
  {
   "cell_type": "markdown",
   "metadata": {
    "id": "f2D8MlDlHvL4"
   },
   "source": [
    "### 3\n",
    "\n",
    "Let’s split the data into training and test sets in an 80:20 ratio."
   ]
  },
  {
   "cell_type": "code",
   "execution_count": 11,
   "metadata": {
    "id": "7YwL8vOzICNY"
   },
   "outputs": [],
   "source": [
    "from sklearn.model_selection import train_test_split\n",
    "x_col = df.drop(columns=['CustomerID','Spending Score (1-100)'], axis = 1).columns\n",
    "y_col = ['Spending Score (1-100)']\n",
    "X_train, X_test, y_train, y_test = train_test_split(df[x_col], df[y_col],test_size=0.2, random_state=1)"
   ]
  },
  {
   "cell_type": "markdown",
   "metadata": {
    "id": "pmzNU3XqICuX"
   },
   "source": [
    "### 4\n",
    "Let’s fill in the missing values in the features of the training set."
   ]
  },
  {
   "cell_type": "code",
   "execution_count": 12,
   "metadata": {
    "id": "wM-cN8q8IZVe"
   },
   "outputs": [],
   "source": [
    "from sklearn.impute import SimpleImputer\n",
    "\n",
    "imp_mean = SimpleImputer(strategy='mean')\n",
    "\n",
    "X_train[['Age','Annual Income (k$)']] = imp_mean.fit_transform(X_train[['Age','Annual Income (k$)']])\n",
    "X_test[['Age','Annual Income (k$)']] = imp_mean.transform(X_test[['Age','Annual Income (k$)']])\n",
    "imp_mode_y = SimpleImputer(strategy='most_frequent')\n",
    "y_train[['Spending Score (1-100)']] = imp_mode_y.fit_transform(y_train[['Spending Score (1-100)']])\n",
    "y_test[['Spending Score (1-100)']] = imp_mode_y.transform(y_test[['Spending Score (1-100)']])\n",
    "\n",
    "imp_mode_x = SimpleImputer(strategy='most_frequent')\n",
    "X_train[['Genre']] = imp_mode_x.fit_transform(X_train[['Genre']])\n",
    "X_test[['Genre']] = imp_mode_x.transform(X_test[['Genre']])"
   ]
  },
  {
   "cell_type": "markdown",
   "metadata": {
    "id": "dG06N3kJIZ9A"
   },
   "source": [
    "### 5\n",
    "\n",
    "Let’s identify outliers in the features of the training set."
   ]
  },
  {
   "cell_type": "code",
   "execution_count": 13,
   "metadata": {},
   "outputs": [
    {
     "data": {
      "text/plain": [
       "<matplotlib.collections.PathCollection at 0x15af5e4b0>"
      ]
     },
     "execution_count": 13,
     "metadata": {},
     "output_type": "execute_result"
    },
    {
     "data": {
      "image/png": "[encoded data removed]",
      "text/plain": [
       "<Figure size 640x480 with 1 Axes>"
      ]
     },
     "metadata": {},
     "output_type": "display_data"
    }
   ],
   "source": [
    "plt.scatter(X_train['Age'],X_train['Annual Income (k$)'])"
   ]
  },
  {
   "cell_type": "code",
   "execution_count": 14,
   "metadata": {
    "id": "TTcePy4bI1ab"
   },
   "outputs": [
    {
     "data": {
      "text/plain": [
       "{'whiskers': [<matplotlib.lines.Line2D at 0x15afe4d40>,\n",
       "  <matplotlib.lines.Line2D at 0x15afe4fe0>],\n",
       " 'caps': [<matplotlib.lines.Line2D at 0x15afe52b0>,\n",
       "  <matplotlib.lines.Line2D at 0x15afe5580>],\n",
       " 'boxes': [<matplotlib.lines.Line2D at 0x15a4eee10>],\n",
       " 'medians': [<matplotlib.lines.Line2D at 0x15afe5850>],\n",
       " 'fliers': [<matplotlib.lines.Line2D at 0x15afe5b20>],\n",
       " 'means': []}"
      ]
     },
     "execution_count": 14,
     "metadata": {},
     "output_type": "execute_result"
    },
    {
     "data": {
      "image/png": "[encoded data removed]",
      "text/plain": [
       "<Figure size 640x480 with 1 Axes>"
      ]
     },
     "metadata": {},
     "output_type": "display_data"
    }
   ],
   "source": [
    "plt.boxplot(X_train['Annual Income (k$)'])"
   ]
  },
  {
   "cell_type": "markdown",
   "metadata": {
    "id": "4iZFKDQ7I2LZ"
   },
   "source": [
    "### 6\n",
    "Normalize the numerical features.\n"
   ]
  },
  {
   "cell_type": "code",
   "execution_count": 15,
   "metadata": {
    "id": "gSLKHnlYI-bf"
   },
   "outputs": [],
   "source": [
    "from sklearn.preprocessing import StandardScaler\n",
    "scaler = StandardScaler()\n",
    "col = ['Age','Annual Income (k$)']\n",
    "X_train[col] = scaler.fit_transform(X_train[col])\n",
    "X_test[col] = scaler.transform(X_test[col])"
   ]
  },
  {
   "cell_type": "markdown",
   "metadata": {
    "id": "MwEFsRNnI_Ar"
   },
   "source": [
    "### 7\n",
    "\n",
    "Encode the categorical features in the training set."
   ]
  },
  {
   "cell_type": "code",
   "execution_count": 16,
   "metadata": {
    "id": "Ypo6y1iMJHeL"
   },
   "outputs": [],
   "source": [
    "from sklearn.preprocessing import OneHotEncoder\n",
    "ohe = OneHotEncoder(sparse_output=False)\n",
    "col = ['Genre']\n",
    "ft = ohe.fit_transform(X_train[col])\n",
    "df_ft = pd.DataFrame(ft, columns = ohe.get_feature_names_out())\n",
    "X_tr = X_train.drop('Genre',axis=1).reset_index(drop=True)\n",
    "X_train_ft = pd.concat([X_tr,df_ft], axis=1)"
   ]
  },
  {
   "cell_type": "code",
   "execution_count": 17,
   "metadata": {},
   "outputs": [],
   "source": [
    "ft_test = ohe.fit_transform(X_test[col])\n",
    "df_ft_test = pd.DataFrame(ft_test, columns = ohe.get_feature_names_out())\n",
    "X_tr_test = X_test.drop('Genre',axis=1).reset_index(drop=True)\n",
    "X_test_ft = pd.concat([X_tr_test,df_ft_test], axis=1)"
   ]
  },
  {
   "cell_type": "code",
   "execution_count": 18,
   "metadata": {},
   "outputs": [
    {
     "data": {
      "text/html": [
       "<div>\n",
       "<style scoped>\n",
       "    .dataframe tbody tr th:only-of-type {\n",
       "        vertical-align: middle;\n",
       "    }\n",
       "\n",
       "    .dataframe tbody tr th {\n",
       "        vertical-align: top;\n",
       "    }\n",
       "\n",
       "    .dataframe thead th {\n",
       "        text-align: right;\n",
       "    }\n",
       "</style>\n",
       "<table border=\"1\" class=\"dataframe\">\n",
       "  <thead>\n",
       "    <tr style=\"text-align: right;\">\n",
       "      <th></th>\n",
       "      <th>Age</th>\n",
       "      <th>Annual Income (k$)</th>\n",
       "      <th>Genre_Female</th>\n",
       "      <th>Genre_Male</th>\n",
       "    </tr>\n",
       "  </thead>\n",
       "  <tbody>\n",
       "    <tr>\n",
       "      <th>0</th>\n",
       "      <td>-1.144139</td>\n",
       "      <td>-0.926477</td>\n",
       "      <td>0.0</td>\n",
       "      <td>1.0</td>\n",
       "    </tr>\n",
       "    <tr>\n",
       "      <th>1</th>\n",
       "      <td>-0.919323</td>\n",
       "      <td>-0.620661</td>\n",
       "      <td>1.0</td>\n",
       "      <td>0.0</td>\n",
       "    </tr>\n",
       "    <tr>\n",
       "      <th>2</th>\n",
       "      <td>-0.319816</td>\n",
       "      <td>-1.499881</td>\n",
       "      <td>1.0</td>\n",
       "      <td>0.0</td>\n",
       "    </tr>\n",
       "    <tr>\n",
       "      <th>3</th>\n",
       "      <td>-1.518831</td>\n",
       "      <td>0.105651</td>\n",
       "      <td>1.0</td>\n",
       "      <td>0.0</td>\n",
       "    </tr>\n",
       "    <tr>\n",
       "      <th>4</th>\n",
       "      <td>-0.994262</td>\n",
       "      <td>-0.009030</td>\n",
       "      <td>0.0</td>\n",
       "      <td>1.0</td>\n",
       "    </tr>\n",
       "    <tr>\n",
       "      <th>5</th>\n",
       "      <td>-0.769446</td>\n",
       "      <td>-1.308746</td>\n",
       "      <td>0.0</td>\n",
       "      <td>1.0</td>\n",
       "    </tr>\n",
       "    <tr>\n",
       "      <th>6</th>\n",
       "      <td>2.303029</td>\n",
       "      <td>-0.620661</td>\n",
       "      <td>0.0</td>\n",
       "      <td>1.0</td>\n",
       "    </tr>\n",
       "    <tr>\n",
       "      <th>7</th>\n",
       "      <td>-0.319816</td>\n",
       "      <td>-1.576335</td>\n",
       "      <td>1.0</td>\n",
       "      <td>0.0</td>\n",
       "    </tr>\n",
       "    <tr>\n",
       "      <th>8</th>\n",
       "      <td>0.879199</td>\n",
       "      <td>-0.697115</td>\n",
       "      <td>1.0</td>\n",
       "      <td>0.0</td>\n",
       "    </tr>\n",
       "    <tr>\n",
       "      <th>9</th>\n",
       "      <td>-1.219077</td>\n",
       "      <td>0.296786</td>\n",
       "      <td>1.0</td>\n",
       "      <td>0.0</td>\n",
       "    </tr>\n",
       "    <tr>\n",
       "      <th>10</th>\n",
       "      <td>-1.518831</td>\n",
       "      <td>0.067424</td>\n",
       "      <td>0.0</td>\n",
       "      <td>1.0</td>\n",
       "    </tr>\n",
       "    <tr>\n",
       "      <th>11</th>\n",
       "      <td>0.804260</td>\n",
       "      <td>0.182105</td>\n",
       "      <td>1.0</td>\n",
       "      <td>0.0</td>\n",
       "    </tr>\n",
       "    <tr>\n",
       "      <th>12</th>\n",
       "      <td>-1.144139</td>\n",
       "      <td>-0.085484</td>\n",
       "      <td>1.0</td>\n",
       "      <td>0.0</td>\n",
       "    </tr>\n",
       "    <tr>\n",
       "      <th>13</th>\n",
       "      <td>-1.443892</td>\n",
       "      <td>0.411467</td>\n",
       "      <td>0.0</td>\n",
       "      <td>1.0</td>\n",
       "    </tr>\n",
       "    <tr>\n",
       "      <th>14</th>\n",
       "      <td>0.729322</td>\n",
       "      <td>-0.314846</td>\n",
       "      <td>1.0</td>\n",
       "      <td>0.0</td>\n",
       "    </tr>\n",
       "    <tr>\n",
       "      <th>15</th>\n",
       "      <td>-1.593769</td>\n",
       "      <td>0.105651</td>\n",
       "      <td>1.0</td>\n",
       "      <td>0.0</td>\n",
       "    </tr>\n",
       "    <tr>\n",
       "      <th>16</th>\n",
       "      <td>1.178953</td>\n",
       "      <td>-0.200165</td>\n",
       "      <td>1.0</td>\n",
       "      <td>0.0</td>\n",
       "    </tr>\n",
       "    <tr>\n",
       "      <th>17</th>\n",
       "      <td>1.553645</td>\n",
       "      <td>-0.467753</td>\n",
       "      <td>1.0</td>\n",
       "      <td>0.0</td>\n",
       "    </tr>\n",
       "    <tr>\n",
       "      <th>18</th>\n",
       "      <td>-0.544631</td>\n",
       "      <td>0.411467</td>\n",
       "      <td>0.0</td>\n",
       "      <td>1.0</td>\n",
       "    </tr>\n",
       "    <tr>\n",
       "      <th>19</th>\n",
       "      <td>0.054876</td>\n",
       "      <td>0.335013</td>\n",
       "      <td>0.0</td>\n",
       "      <td>1.0</td>\n",
       "    </tr>\n",
       "    <tr>\n",
       "      <th>20</th>\n",
       "      <td>-0.095001</td>\n",
       "      <td>1.940545</td>\n",
       "      <td>1.0</td>\n",
       "      <td>0.0</td>\n",
       "    </tr>\n",
       "    <tr>\n",
       "      <th>21</th>\n",
       "      <td>0.729322</td>\n",
       "      <td>-0.773569</td>\n",
       "      <td>1.0</td>\n",
       "      <td>0.0</td>\n",
       "    </tr>\n",
       "    <tr>\n",
       "      <th>22</th>\n",
       "      <td>-0.544631</td>\n",
       "      <td>-0.544207</td>\n",
       "      <td>1.0</td>\n",
       "      <td>0.0</td>\n",
       "    </tr>\n",
       "    <tr>\n",
       "      <th>23</th>\n",
       "      <td>-0.694508</td>\n",
       "      <td>-1.652789</td>\n",
       "      <td>1.0</td>\n",
       "      <td>0.0</td>\n",
       "    </tr>\n",
       "    <tr>\n",
       "      <th>24</th>\n",
       "      <td>2.153152</td>\n",
       "      <td>0.029197</td>\n",
       "      <td>0.0</td>\n",
       "      <td>1.0</td>\n",
       "    </tr>\n",
       "    <tr>\n",
       "      <th>25</th>\n",
       "      <td>-0.619570</td>\n",
       "      <td>-0.888250</td>\n",
       "      <td>1.0</td>\n",
       "      <td>0.0</td>\n",
       "    </tr>\n",
       "    <tr>\n",
       "      <th>26</th>\n",
       "      <td>-1.069200</td>\n",
       "      <td>-1.461654</td>\n",
       "      <td>0.0</td>\n",
       "      <td>1.0</td>\n",
       "    </tr>\n",
       "    <tr>\n",
       "      <th>27</th>\n",
       "      <td>-0.169939</td>\n",
       "      <td>1.328913</td>\n",
       "      <td>1.0</td>\n",
       "      <td>0.0</td>\n",
       "    </tr>\n",
       "    <tr>\n",
       "      <th>28</th>\n",
       "      <td>1.478706</td>\n",
       "      <td>1.176006</td>\n",
       "      <td>0.0</td>\n",
       "      <td>1.0</td>\n",
       "    </tr>\n",
       "    <tr>\n",
       "      <th>29</th>\n",
       "      <td>0.879199</td>\n",
       "      <td>0.182105</td>\n",
       "      <td>1.0</td>\n",
       "      <td>0.0</td>\n",
       "    </tr>\n",
       "    <tr>\n",
       "      <th>30</th>\n",
       "      <td>1.253891</td>\n",
       "      <td>0.640828</td>\n",
       "      <td>1.0</td>\n",
       "      <td>0.0</td>\n",
       "    </tr>\n",
       "    <tr>\n",
       "      <th>31</th>\n",
       "      <td>-1.069200</td>\n",
       "      <td>0.373240</td>\n",
       "      <td>1.0</td>\n",
       "      <td>0.0</td>\n",
       "    </tr>\n",
       "  </tbody>\n",
       "</table>\n",
       "</div>"
      ],
      "text/plain": [
       "         Age  Annual Income (k$)  Genre_Female  Genre_Male\n",
       "0  -1.144139           -0.926477           0.0         1.0\n",
       "1  -0.919323           -0.620661           1.0         0.0\n",
       "2  -0.319816           -1.499881           1.0         0.0\n",
       "3  -1.518831            0.105651           1.0         0.0\n",
       "4  -0.994262           -0.009030           0.0         1.0\n",
       "5  -0.769446           -1.308746           0.0         1.0\n",
       "6   2.303029           -0.620661           0.0         1.0\n",
       "7  -0.319816           -1.576335           1.0         0.0\n",
       "8   0.879199           -0.697115           1.0         0.0\n",
       "9  -1.219077            0.296786           1.0         0.0\n",
       "10 -1.518831            0.067424           0.0         1.0\n",
       "11  0.804260            0.182105           1.0         0.0\n",
       "12 -1.144139           -0.085484           1.0         0.0\n",
       "13 -1.443892            0.411467           0.0         1.0\n",
       "14  0.729322           -0.314846           1.0         0.0\n",
       "15 -1.593769            0.105651           1.0         0.0\n",
       "16  1.178953           -0.200165           1.0         0.0\n",
       "17  1.553645           -0.467753           1.0         0.0\n",
       "18 -0.544631            0.411467           0.0         1.0\n",
       "19  0.054876            0.335013           0.0         1.0\n",
       "20 -0.095001            1.940545           1.0         0.0\n",
       "21  0.729322           -0.773569           1.0         0.0\n",
       "22 -0.544631           -0.544207           1.0         0.0\n",
       "23 -0.694508           -1.652789           1.0         0.0\n",
       "24  2.153152            0.029197           0.0         1.0\n",
       "25 -0.619570           -0.888250           1.0         0.0\n",
       "26 -1.069200           -1.461654           0.0         1.0\n",
       "27 -0.169939            1.328913           1.0         0.0\n",
       "28  1.478706            1.176006           0.0         1.0\n",
       "29  0.879199            0.182105           1.0         0.0\n",
       "30  1.253891            0.640828           1.0         0.0\n",
       "31 -1.069200            0.373240           1.0         0.0"
      ]
     },
     "execution_count": 18,
     "metadata": {},
     "output_type": "execute_result"
    }
   ],
   "source": [
    "X_test_ft"
   ]
  },
  {
   "cell_type": "code",
   "execution_count": null,
   "metadata": {},
   "outputs": [],
   "source": []
  }
 ],
 "metadata": {
  "colab": {
   "provenance": []
  },
  "gpuClass": "standard",
  "kernelspec": {
   "display_name": "Python 3 (ipykernel)",
   "language": "python",
   "name": "python3"
  },
  "language_info": {
   "codemirror_mode": {
    "name": "ipython",
    "version": 3
   },
   "file_extension": ".py",
   "mimetype": "text/x-python",
   "name": "python",
   "nbconvert_exporter": "python",
   "pygments_lexer": "ipython3",
   "version": "3.12.7"
  }
 },
 "nbformat": 4,
 "nbformat_minor": 4
}
